{
 "cells": [
  {
   "cell_type": "markdown",
   "id": "7361fb70",
   "metadata": {},
   "source": [
    "I want to create the adjacency list for the \"valid_redirects\". \n",
    "\n",
    "1. Get the `ads.txt` files\n",
    "2. Figure out how to clean up each file\n",
    "    - The aim is to get every row of the file into a pandas dataframe\n",
    "    - I would have to deal with comments\n",
    "    - Throwaway certain rows\n",
    "    - among other stuff...\n",
    "3. Output the adjacency list with the name of the publisher against the name of the platform\n",
    "4. Make a networkx object"
   ]
  },
  {
   "cell_type": "code",
   "execution_count": 1,
   "id": "5fedf304",
   "metadata": {},
   "outputs": [],
   "source": [
    "import pandas as pd\n",
    "import requests as req\n",
    "from urllib.parse import urlparse\n",
    "import os\n",
    "from itertools import islice\n",
    "from bs4 import BeautifulSoup\n",
    "import numpy as np\n",
    "import re\n",
    "import networkx as nx"
   ]
  },
  {
   "cell_type": "code",
   "execution_count": 9,
   "id": "8e3e973d",
   "metadata": {},
   "outputs": [
    {
     "ename": "ConnectTimeout",
     "evalue": "HTTPSConnectionPool(host='w123.com', port=443): Max retries exceeded with url: / (Caused by ConnectTimeoutError(<urllib3.connection.HTTPSConnection object at 0x000001D50FE9B760>, 'Connection to w123.com timed out. (connect timeout=None)'))",
     "output_type": "error",
     "traceback": [
      "\u001b[1;31m---------------------------------------------------------------------------\u001b[0m",
      "\u001b[1;31mTimeoutError\u001b[0m                              Traceback (most recent call last)",
      "File \u001b[1;32m~\\6302_proj\\lib\\site-packages\\urllib3\\connection.py:174\u001b[0m, in \u001b[0;36mHTTPConnection._new_conn\u001b[1;34m(self)\u001b[0m\n\u001b[0;32m    173\u001b[0m \u001b[38;5;28;01mtry\u001b[39;00m:\n\u001b[1;32m--> 174\u001b[0m     conn \u001b[38;5;241m=\u001b[39m connection\u001b[38;5;241m.\u001b[39mcreate_connection(\n\u001b[0;32m    175\u001b[0m         (\u001b[38;5;28mself\u001b[39m\u001b[38;5;241m.\u001b[39m_dns_host, \u001b[38;5;28mself\u001b[39m\u001b[38;5;241m.\u001b[39mport), \u001b[38;5;28mself\u001b[39m\u001b[38;5;241m.\u001b[39mtimeout, \u001b[38;5;241m*\u001b[39m\u001b[38;5;241m*\u001b[39mextra_kw\n\u001b[0;32m    176\u001b[0m     )\n\u001b[0;32m    178\u001b[0m \u001b[38;5;28;01mexcept\u001b[39;00m SocketTimeout:\n",
      "File \u001b[1;32m~\\6302_proj\\lib\\site-packages\\urllib3\\util\\connection.py:95\u001b[0m, in \u001b[0;36mcreate_connection\u001b[1;34m(address, timeout, source_address, socket_options)\u001b[0m\n\u001b[0;32m     94\u001b[0m \u001b[38;5;28;01mif\u001b[39;00m err \u001b[38;5;129;01mis\u001b[39;00m \u001b[38;5;129;01mnot\u001b[39;00m \u001b[38;5;28;01mNone\u001b[39;00m:\n\u001b[1;32m---> 95\u001b[0m     \u001b[38;5;28;01mraise\u001b[39;00m err\n\u001b[0;32m     97\u001b[0m \u001b[38;5;28;01mraise\u001b[39;00m socket\u001b[38;5;241m.\u001b[39merror(\u001b[38;5;124m\"\u001b[39m\u001b[38;5;124mgetaddrinfo returns an empty list\u001b[39m\u001b[38;5;124m\"\u001b[39m)\n",
      "File \u001b[1;32m~\\6302_proj\\lib\\site-packages\\urllib3\\util\\connection.py:85\u001b[0m, in \u001b[0;36mcreate_connection\u001b[1;34m(address, timeout, source_address, socket_options)\u001b[0m\n\u001b[0;32m     84\u001b[0m     sock\u001b[38;5;241m.\u001b[39mbind(source_address)\n\u001b[1;32m---> 85\u001b[0m \u001b[43msock\u001b[49m\u001b[38;5;241;43m.\u001b[39;49m\u001b[43mconnect\u001b[49m\u001b[43m(\u001b[49m\u001b[43msa\u001b[49m\u001b[43m)\u001b[49m\n\u001b[0;32m     86\u001b[0m \u001b[38;5;28;01mreturn\u001b[39;00m sock\n",
      "\u001b[1;31mTimeoutError\u001b[0m: [WinError 10060] A connection attempt failed because the connected party did not properly respond after a period of time, or established connection failed because connected host has failed to respond",
      "\nDuring handling of the above exception, another exception occurred:\n",
      "\u001b[1;31mConnectTimeoutError\u001b[0m                       Traceback (most recent call last)",
      "File \u001b[1;32m~\\6302_proj\\lib\\site-packages\\urllib3\\connectionpool.py:703\u001b[0m, in \u001b[0;36mHTTPConnectionPool.urlopen\u001b[1;34m(self, method, url, body, headers, retries, redirect, assert_same_host, timeout, pool_timeout, release_conn, chunked, body_pos, **response_kw)\u001b[0m\n\u001b[0;32m    702\u001b[0m \u001b[38;5;66;03m# Make the request on the httplib connection object.\u001b[39;00m\n\u001b[1;32m--> 703\u001b[0m httplib_response \u001b[38;5;241m=\u001b[39m \u001b[38;5;28;43mself\u001b[39;49m\u001b[38;5;241;43m.\u001b[39;49m\u001b[43m_make_request\u001b[49m\u001b[43m(\u001b[49m\n\u001b[0;32m    704\u001b[0m \u001b[43m    \u001b[49m\u001b[43mconn\u001b[49m\u001b[43m,\u001b[49m\n\u001b[0;32m    705\u001b[0m \u001b[43m    \u001b[49m\u001b[43mmethod\u001b[49m\u001b[43m,\u001b[49m\n\u001b[0;32m    706\u001b[0m \u001b[43m    \u001b[49m\u001b[43murl\u001b[49m\u001b[43m,\u001b[49m\n\u001b[0;32m    707\u001b[0m \u001b[43m    \u001b[49m\u001b[43mtimeout\u001b[49m\u001b[38;5;241;43m=\u001b[39;49m\u001b[43mtimeout_obj\u001b[49m\u001b[43m,\u001b[49m\n\u001b[0;32m    708\u001b[0m \u001b[43m    \u001b[49m\u001b[43mbody\u001b[49m\u001b[38;5;241;43m=\u001b[39;49m\u001b[43mbody\u001b[49m\u001b[43m,\u001b[49m\n\u001b[0;32m    709\u001b[0m \u001b[43m    \u001b[49m\u001b[43mheaders\u001b[49m\u001b[38;5;241;43m=\u001b[39;49m\u001b[43mheaders\u001b[49m\u001b[43m,\u001b[49m\n\u001b[0;32m    710\u001b[0m \u001b[43m    \u001b[49m\u001b[43mchunked\u001b[49m\u001b[38;5;241;43m=\u001b[39;49m\u001b[43mchunked\u001b[49m\u001b[43m,\u001b[49m\n\u001b[0;32m    711\u001b[0m \u001b[43m\u001b[49m\u001b[43m)\u001b[49m\n\u001b[0;32m    713\u001b[0m \u001b[38;5;66;03m# If we're going to release the connection in ``finally:``, then\u001b[39;00m\n\u001b[0;32m    714\u001b[0m \u001b[38;5;66;03m# the response doesn't need to know about the connection. Otherwise\u001b[39;00m\n\u001b[0;32m    715\u001b[0m \u001b[38;5;66;03m# it will also try to release it and we'll have a double-release\u001b[39;00m\n\u001b[0;32m    716\u001b[0m \u001b[38;5;66;03m# mess.\u001b[39;00m\n",
      "File \u001b[1;32m~\\6302_proj\\lib\\site-packages\\urllib3\\connectionpool.py:386\u001b[0m, in \u001b[0;36mHTTPConnectionPool._make_request\u001b[1;34m(self, conn, method, url, timeout, chunked, **httplib_request_kw)\u001b[0m\n\u001b[0;32m    385\u001b[0m \u001b[38;5;28;01mtry\u001b[39;00m:\n\u001b[1;32m--> 386\u001b[0m     \u001b[38;5;28;43mself\u001b[39;49m\u001b[38;5;241;43m.\u001b[39;49m\u001b[43m_validate_conn\u001b[49m\u001b[43m(\u001b[49m\u001b[43mconn\u001b[49m\u001b[43m)\u001b[49m\n\u001b[0;32m    387\u001b[0m \u001b[38;5;28;01mexcept\u001b[39;00m (SocketTimeout, BaseSSLError) \u001b[38;5;28;01mas\u001b[39;00m e:\n\u001b[0;32m    388\u001b[0m     \u001b[38;5;66;03m# Py2 raises this as a BaseSSLError, Py3 raises it as socket timeout.\u001b[39;00m\n",
      "File \u001b[1;32m~\\6302_proj\\lib\\site-packages\\urllib3\\connectionpool.py:1042\u001b[0m, in \u001b[0;36mHTTPSConnectionPool._validate_conn\u001b[1;34m(self, conn)\u001b[0m\n\u001b[0;32m   1041\u001b[0m \u001b[38;5;28;01mif\u001b[39;00m \u001b[38;5;129;01mnot\u001b[39;00m \u001b[38;5;28mgetattr\u001b[39m(conn, \u001b[38;5;124m\"\u001b[39m\u001b[38;5;124msock\u001b[39m\u001b[38;5;124m\"\u001b[39m, \u001b[38;5;28;01mNone\u001b[39;00m):  \u001b[38;5;66;03m# AppEngine might not have  `.sock`\u001b[39;00m\n\u001b[1;32m-> 1042\u001b[0m     \u001b[43mconn\u001b[49m\u001b[38;5;241;43m.\u001b[39;49m\u001b[43mconnect\u001b[49m\u001b[43m(\u001b[49m\u001b[43m)\u001b[49m\n\u001b[0;32m   1044\u001b[0m \u001b[38;5;28;01mif\u001b[39;00m \u001b[38;5;129;01mnot\u001b[39;00m conn\u001b[38;5;241m.\u001b[39mis_verified:\n",
      "File \u001b[1;32m~\\6302_proj\\lib\\site-packages\\urllib3\\connection.py:358\u001b[0m, in \u001b[0;36mHTTPSConnection.connect\u001b[1;34m(self)\u001b[0m\n\u001b[0;32m    356\u001b[0m \u001b[38;5;28;01mdef\u001b[39;00m \u001b[38;5;21mconnect\u001b[39m(\u001b[38;5;28mself\u001b[39m):\n\u001b[0;32m    357\u001b[0m     \u001b[38;5;66;03m# Add certificate verification\u001b[39;00m\n\u001b[1;32m--> 358\u001b[0m     \u001b[38;5;28mself\u001b[39m\u001b[38;5;241m.\u001b[39msock \u001b[38;5;241m=\u001b[39m conn \u001b[38;5;241m=\u001b[39m \u001b[38;5;28;43mself\u001b[39;49m\u001b[38;5;241;43m.\u001b[39;49m\u001b[43m_new_conn\u001b[49m\u001b[43m(\u001b[49m\u001b[43m)\u001b[49m\n\u001b[0;32m    359\u001b[0m     hostname \u001b[38;5;241m=\u001b[39m \u001b[38;5;28mself\u001b[39m\u001b[38;5;241m.\u001b[39mhost\n",
      "File \u001b[1;32m~\\6302_proj\\lib\\site-packages\\urllib3\\connection.py:179\u001b[0m, in \u001b[0;36mHTTPConnection._new_conn\u001b[1;34m(self)\u001b[0m\n\u001b[0;32m    178\u001b[0m \u001b[38;5;28;01mexcept\u001b[39;00m SocketTimeout:\n\u001b[1;32m--> 179\u001b[0m     \u001b[38;5;28;01mraise\u001b[39;00m ConnectTimeoutError(\n\u001b[0;32m    180\u001b[0m         \u001b[38;5;28mself\u001b[39m,\n\u001b[0;32m    181\u001b[0m         \u001b[38;5;124m\"\u001b[39m\u001b[38;5;124mConnection to \u001b[39m\u001b[38;5;132;01m%s\u001b[39;00m\u001b[38;5;124m timed out. (connect timeout=\u001b[39m\u001b[38;5;132;01m%s\u001b[39;00m\u001b[38;5;124m)\u001b[39m\u001b[38;5;124m\"\u001b[39m\n\u001b[0;32m    182\u001b[0m         \u001b[38;5;241m%\u001b[39m (\u001b[38;5;28mself\u001b[39m\u001b[38;5;241m.\u001b[39mhost, \u001b[38;5;28mself\u001b[39m\u001b[38;5;241m.\u001b[39mtimeout),\n\u001b[0;32m    183\u001b[0m     )\n\u001b[0;32m    185\u001b[0m \u001b[38;5;28;01mexcept\u001b[39;00m SocketError \u001b[38;5;28;01mas\u001b[39;00m e:\n",
      "\u001b[1;31mConnectTimeoutError\u001b[0m: (<urllib3.connection.HTTPSConnection object at 0x000001D50FE9B760>, 'Connection to w123.com timed out. (connect timeout=None)')",
      "\nDuring handling of the above exception, another exception occurred:\n",
      "\u001b[1;31mMaxRetryError\u001b[0m                             Traceback (most recent call last)",
      "File \u001b[1;32m~\\6302_proj\\lib\\site-packages\\requests\\adapters.py:489\u001b[0m, in \u001b[0;36mHTTPAdapter.send\u001b[1;34m(self, request, stream, timeout, verify, cert, proxies)\u001b[0m\n\u001b[0;32m    488\u001b[0m \u001b[38;5;28;01mif\u001b[39;00m \u001b[38;5;129;01mnot\u001b[39;00m chunked:\n\u001b[1;32m--> 489\u001b[0m     resp \u001b[38;5;241m=\u001b[39m \u001b[43mconn\u001b[49m\u001b[38;5;241;43m.\u001b[39;49m\u001b[43murlopen\u001b[49m\u001b[43m(\u001b[49m\n\u001b[0;32m    490\u001b[0m \u001b[43m        \u001b[49m\u001b[43mmethod\u001b[49m\u001b[38;5;241;43m=\u001b[39;49m\u001b[43mrequest\u001b[49m\u001b[38;5;241;43m.\u001b[39;49m\u001b[43mmethod\u001b[49m\u001b[43m,\u001b[49m\n\u001b[0;32m    491\u001b[0m \u001b[43m        \u001b[49m\u001b[43murl\u001b[49m\u001b[38;5;241;43m=\u001b[39;49m\u001b[43murl\u001b[49m\u001b[43m,\u001b[49m\n\u001b[0;32m    492\u001b[0m \u001b[43m        \u001b[49m\u001b[43mbody\u001b[49m\u001b[38;5;241;43m=\u001b[39;49m\u001b[43mrequest\u001b[49m\u001b[38;5;241;43m.\u001b[39;49m\u001b[43mbody\u001b[49m\u001b[43m,\u001b[49m\n\u001b[0;32m    493\u001b[0m \u001b[43m        \u001b[49m\u001b[43mheaders\u001b[49m\u001b[38;5;241;43m=\u001b[39;49m\u001b[43mrequest\u001b[49m\u001b[38;5;241;43m.\u001b[39;49m\u001b[43mheaders\u001b[49m\u001b[43m,\u001b[49m\n\u001b[0;32m    494\u001b[0m \u001b[43m        \u001b[49m\u001b[43mredirect\u001b[49m\u001b[38;5;241;43m=\u001b[39;49m\u001b[38;5;28;43;01mFalse\u001b[39;49;00m\u001b[43m,\u001b[49m\n\u001b[0;32m    495\u001b[0m \u001b[43m        \u001b[49m\u001b[43massert_same_host\u001b[49m\u001b[38;5;241;43m=\u001b[39;49m\u001b[38;5;28;43;01mFalse\u001b[39;49;00m\u001b[43m,\u001b[49m\n\u001b[0;32m    496\u001b[0m \u001b[43m        \u001b[49m\u001b[43mpreload_content\u001b[49m\u001b[38;5;241;43m=\u001b[39;49m\u001b[38;5;28;43;01mFalse\u001b[39;49;00m\u001b[43m,\u001b[49m\n\u001b[0;32m    497\u001b[0m \u001b[43m        \u001b[49m\u001b[43mdecode_content\u001b[49m\u001b[38;5;241;43m=\u001b[39;49m\u001b[38;5;28;43;01mFalse\u001b[39;49;00m\u001b[43m,\u001b[49m\n\u001b[0;32m    498\u001b[0m \u001b[43m        \u001b[49m\u001b[43mretries\u001b[49m\u001b[38;5;241;43m=\u001b[39;49m\u001b[38;5;28;43mself\u001b[39;49m\u001b[38;5;241;43m.\u001b[39;49m\u001b[43mmax_retries\u001b[49m\u001b[43m,\u001b[49m\n\u001b[0;32m    499\u001b[0m \u001b[43m        \u001b[49m\u001b[43mtimeout\u001b[49m\u001b[38;5;241;43m=\u001b[39;49m\u001b[43mtimeout\u001b[49m\u001b[43m,\u001b[49m\n\u001b[0;32m    500\u001b[0m \u001b[43m    \u001b[49m\u001b[43m)\u001b[49m\n\u001b[0;32m    502\u001b[0m \u001b[38;5;66;03m# Send the request.\u001b[39;00m\n\u001b[0;32m    503\u001b[0m \u001b[38;5;28;01melse\u001b[39;00m:\n",
      "File \u001b[1;32m~\\6302_proj\\lib\\site-packages\\urllib3\\connectionpool.py:787\u001b[0m, in \u001b[0;36mHTTPConnectionPool.urlopen\u001b[1;34m(self, method, url, body, headers, retries, redirect, assert_same_host, timeout, pool_timeout, release_conn, chunked, body_pos, **response_kw)\u001b[0m\n\u001b[0;32m    785\u001b[0m     e \u001b[38;5;241m=\u001b[39m ProtocolError(\u001b[38;5;124m\"\u001b[39m\u001b[38;5;124mConnection aborted.\u001b[39m\u001b[38;5;124m\"\u001b[39m, e)\n\u001b[1;32m--> 787\u001b[0m retries \u001b[38;5;241m=\u001b[39m \u001b[43mretries\u001b[49m\u001b[38;5;241;43m.\u001b[39;49m\u001b[43mincrement\u001b[49m\u001b[43m(\u001b[49m\n\u001b[0;32m    788\u001b[0m \u001b[43m    \u001b[49m\u001b[43mmethod\u001b[49m\u001b[43m,\u001b[49m\u001b[43m \u001b[49m\u001b[43murl\u001b[49m\u001b[43m,\u001b[49m\u001b[43m \u001b[49m\u001b[43merror\u001b[49m\u001b[38;5;241;43m=\u001b[39;49m\u001b[43me\u001b[49m\u001b[43m,\u001b[49m\u001b[43m \u001b[49m\u001b[43m_pool\u001b[49m\u001b[38;5;241;43m=\u001b[39;49m\u001b[38;5;28;43mself\u001b[39;49m\u001b[43m,\u001b[49m\u001b[43m \u001b[49m\u001b[43m_stacktrace\u001b[49m\u001b[38;5;241;43m=\u001b[39;49m\u001b[43msys\u001b[49m\u001b[38;5;241;43m.\u001b[39;49m\u001b[43mexc_info\u001b[49m\u001b[43m(\u001b[49m\u001b[43m)\u001b[49m\u001b[43m[\u001b[49m\u001b[38;5;241;43m2\u001b[39;49m\u001b[43m]\u001b[49m\n\u001b[0;32m    789\u001b[0m \u001b[43m\u001b[49m\u001b[43m)\u001b[49m\n\u001b[0;32m    790\u001b[0m retries\u001b[38;5;241m.\u001b[39msleep()\n",
      "File \u001b[1;32m~\\6302_proj\\lib\\site-packages\\urllib3\\util\\retry.py:592\u001b[0m, in \u001b[0;36mRetry.increment\u001b[1;34m(self, method, url, response, error, _pool, _stacktrace)\u001b[0m\n\u001b[0;32m    591\u001b[0m \u001b[38;5;28;01mif\u001b[39;00m new_retry\u001b[38;5;241m.\u001b[39mis_exhausted():\n\u001b[1;32m--> 592\u001b[0m     \u001b[38;5;28;01mraise\u001b[39;00m MaxRetryError(_pool, url, error \u001b[38;5;129;01mor\u001b[39;00m ResponseError(cause))\n\u001b[0;32m    594\u001b[0m log\u001b[38;5;241m.\u001b[39mdebug(\u001b[38;5;124m\"\u001b[39m\u001b[38;5;124mIncremented Retry for (url=\u001b[39m\u001b[38;5;124m'\u001b[39m\u001b[38;5;132;01m%s\u001b[39;00m\u001b[38;5;124m'\u001b[39m\u001b[38;5;124m): \u001b[39m\u001b[38;5;132;01m%r\u001b[39;00m\u001b[38;5;124m\"\u001b[39m, url, new_retry)\n",
      "\u001b[1;31mMaxRetryError\u001b[0m: HTTPSConnectionPool(host='w123.com', port=443): Max retries exceeded with url: / (Caused by ConnectTimeoutError(<urllib3.connection.HTTPSConnection object at 0x000001D50FE9B760>, 'Connection to w123.com timed out. (connect timeout=None)'))",
      "\nDuring handling of the above exception, another exception occurred:\n",
      "\u001b[1;31mConnectTimeout\u001b[0m                            Traceback (most recent call last)",
      "Cell \u001b[1;32mIn [9], line 1\u001b[0m\n\u001b[1;32m----> 1\u001b[0m \u001b[43mreq\u001b[49m\u001b[38;5;241;43m.\u001b[39;49m\u001b[43mget\u001b[49m\u001b[43m(\u001b[49m\u001b[38;5;124;43m'\u001b[39;49m\u001b[38;5;124;43mhttps://w123.com\u001b[39;49m\u001b[38;5;124;43m'\u001b[39;49m\u001b[43m)\u001b[49m\n",
      "File \u001b[1;32m~\\6302_proj\\lib\\site-packages\\requests\\api.py:73\u001b[0m, in \u001b[0;36mget\u001b[1;34m(url, params, **kwargs)\u001b[0m\n\u001b[0;32m     62\u001b[0m \u001b[38;5;28;01mdef\u001b[39;00m \u001b[38;5;21mget\u001b[39m(url, params\u001b[38;5;241m=\u001b[39m\u001b[38;5;28;01mNone\u001b[39;00m, \u001b[38;5;241m*\u001b[39m\u001b[38;5;241m*\u001b[39mkwargs):\n\u001b[0;32m     63\u001b[0m     \u001b[38;5;124mr\u001b[39m\u001b[38;5;124;03m\"\"\"Sends a GET request.\u001b[39;00m\n\u001b[0;32m     64\u001b[0m \n\u001b[0;32m     65\u001b[0m \u001b[38;5;124;03m    :param url: URL for the new :class:`Request` object.\u001b[39;00m\n\u001b[1;32m   (...)\u001b[0m\n\u001b[0;32m     70\u001b[0m \u001b[38;5;124;03m    :rtype: requests.Response\u001b[39;00m\n\u001b[0;32m     71\u001b[0m \u001b[38;5;124;03m    \"\"\"\u001b[39;00m\n\u001b[1;32m---> 73\u001b[0m     \u001b[38;5;28;01mreturn\u001b[39;00m request(\u001b[38;5;124m\"\u001b[39m\u001b[38;5;124mget\u001b[39m\u001b[38;5;124m\"\u001b[39m, url, params\u001b[38;5;241m=\u001b[39mparams, \u001b[38;5;241m*\u001b[39m\u001b[38;5;241m*\u001b[39mkwargs)\n",
      "File \u001b[1;32m~\\6302_proj\\lib\\site-packages\\requests\\api.py:59\u001b[0m, in \u001b[0;36mrequest\u001b[1;34m(method, url, **kwargs)\u001b[0m\n\u001b[0;32m     55\u001b[0m \u001b[38;5;66;03m# By using the 'with' statement we are sure the session is closed, thus we\u001b[39;00m\n\u001b[0;32m     56\u001b[0m \u001b[38;5;66;03m# avoid leaving sockets open which can trigger a ResourceWarning in some\u001b[39;00m\n\u001b[0;32m     57\u001b[0m \u001b[38;5;66;03m# cases, and look like a memory leak in others.\u001b[39;00m\n\u001b[0;32m     58\u001b[0m \u001b[38;5;28;01mwith\u001b[39;00m sessions\u001b[38;5;241m.\u001b[39mSession() \u001b[38;5;28;01mas\u001b[39;00m session:\n\u001b[1;32m---> 59\u001b[0m     \u001b[38;5;28;01mreturn\u001b[39;00m session\u001b[38;5;241m.\u001b[39mrequest(method\u001b[38;5;241m=\u001b[39mmethod, url\u001b[38;5;241m=\u001b[39murl, \u001b[38;5;241m*\u001b[39m\u001b[38;5;241m*\u001b[39mkwargs)\n",
      "File \u001b[1;32m~\\6302_proj\\lib\\site-packages\\requests\\sessions.py:587\u001b[0m, in \u001b[0;36mSession.request\u001b[1;34m(self, method, url, params, data, headers, cookies, files, auth, timeout, allow_redirects, proxies, hooks, stream, verify, cert, json)\u001b[0m\n\u001b[0;32m    582\u001b[0m send_kwargs \u001b[38;5;241m=\u001b[39m {\n\u001b[0;32m    583\u001b[0m     \u001b[38;5;124m\"\u001b[39m\u001b[38;5;124mtimeout\u001b[39m\u001b[38;5;124m\"\u001b[39m: timeout,\n\u001b[0;32m    584\u001b[0m     \u001b[38;5;124m\"\u001b[39m\u001b[38;5;124mallow_redirects\u001b[39m\u001b[38;5;124m\"\u001b[39m: allow_redirects,\n\u001b[0;32m    585\u001b[0m }\n\u001b[0;32m    586\u001b[0m send_kwargs\u001b[38;5;241m.\u001b[39mupdate(settings)\n\u001b[1;32m--> 587\u001b[0m resp \u001b[38;5;241m=\u001b[39m \u001b[38;5;28mself\u001b[39m\u001b[38;5;241m.\u001b[39msend(prep, \u001b[38;5;241m*\u001b[39m\u001b[38;5;241m*\u001b[39msend_kwargs)\n\u001b[0;32m    589\u001b[0m \u001b[38;5;28;01mreturn\u001b[39;00m resp\n",
      "File \u001b[1;32m~\\6302_proj\\lib\\site-packages\\requests\\sessions.py:701\u001b[0m, in \u001b[0;36mSession.send\u001b[1;34m(self, request, **kwargs)\u001b[0m\n\u001b[0;32m    698\u001b[0m start \u001b[38;5;241m=\u001b[39m preferred_clock()\n\u001b[0;32m    700\u001b[0m \u001b[38;5;66;03m# Send the request\u001b[39;00m\n\u001b[1;32m--> 701\u001b[0m r \u001b[38;5;241m=\u001b[39m adapter\u001b[38;5;241m.\u001b[39msend(request, \u001b[38;5;241m*\u001b[39m\u001b[38;5;241m*\u001b[39mkwargs)\n\u001b[0;32m    703\u001b[0m \u001b[38;5;66;03m# Total elapsed time of the request (approximately)\u001b[39;00m\n\u001b[0;32m    704\u001b[0m elapsed \u001b[38;5;241m=\u001b[39m preferred_clock() \u001b[38;5;241m-\u001b[39m start\n",
      "File \u001b[1;32m~\\6302_proj\\lib\\site-packages\\requests\\adapters.py:553\u001b[0m, in \u001b[0;36mHTTPAdapter.send\u001b[1;34m(self, request, stream, timeout, verify, cert, proxies)\u001b[0m\n\u001b[0;32m    550\u001b[0m \u001b[38;5;28;01mif\u001b[39;00m \u001b[38;5;28misinstance\u001b[39m(e\u001b[38;5;241m.\u001b[39mreason, ConnectTimeoutError):\n\u001b[0;32m    551\u001b[0m     \u001b[38;5;66;03m# TODO: Remove this in 3.0.0: see #2811\u001b[39;00m\n\u001b[0;32m    552\u001b[0m     \u001b[38;5;28;01mif\u001b[39;00m \u001b[38;5;129;01mnot\u001b[39;00m \u001b[38;5;28misinstance\u001b[39m(e\u001b[38;5;241m.\u001b[39mreason, NewConnectionError):\n\u001b[1;32m--> 553\u001b[0m         \u001b[38;5;28;01mraise\u001b[39;00m ConnectTimeout(e, request\u001b[38;5;241m=\u001b[39mrequest)\n\u001b[0;32m    555\u001b[0m \u001b[38;5;28;01mif\u001b[39;00m \u001b[38;5;28misinstance\u001b[39m(e\u001b[38;5;241m.\u001b[39mreason, ResponseError):\n\u001b[0;32m    556\u001b[0m     \u001b[38;5;28;01mraise\u001b[39;00m RetryError(e, request\u001b[38;5;241m=\u001b[39mrequest)\n",
      "\u001b[1;31mConnectTimeout\u001b[0m: HTTPSConnectionPool(host='w123.com', port=443): Max retries exceeded with url: / (Caused by ConnectTimeoutError(<urllib3.connection.HTTPSConnection object at 0x000001D50FE9B760>, 'Connection to w123.com timed out. (connect timeout=None)'))"
     ]
    }
   ],
   "source": [
    "req.get('https://w123.com')"
   ]
  },
  {
   "cell_type": "markdown",
   "id": "da00b307",
   "metadata": {},
   "source": [
    "## 1. Get the `ads.txt` files\n",
    "\n",
    "Since this is parallelized, it is in a separate script - See `getting_adstxt.py`"
   ]
  },
  {
   "cell_type": "markdown",
   "id": "ed876675",
   "metadata": {},
   "source": [
    "## 2. Figure out how to clean up each file\n",
    "\n",
    "- The aim is to get every row of the file into a pandas dataframe\n",
    "    - I would have to deal with comments\n",
    "    - Throwaway certain rows\n",
    "    - among other stuff..."
   ]
  },
  {
   "cell_type": "code",
   "execution_count": 2,
   "id": "6c318ecf",
   "metadata": {},
   "outputs": [],
   "source": [
    "#A function to print n elements from a dict just for convenience\n",
    "#From here https://stackoverflow.com/a/7971655/10098211\n",
    "def take(n, iterable):\n",
    "    \"Return first n items of the iterable as a list\"\n",
    "    return list(islice(iterable, n))"
   ]
  },
  {
   "cell_type": "code",
   "execution_count": 3,
   "id": "1b3d5d46",
   "metadata": {},
   "outputs": [],
   "source": [
    "#Getting everything read into a dictionary\n",
    "adstxt_dict = dict()\n",
    "directory = \"./ads_files\"\n",
    "adstxt_files = os.listdir(directory)\n",
    "\n",
    "for filename in adstxt_files:\n",
    "    base_url = filename.rsplit('.', 1)[0]\n",
    "    with open(f\"{directory}/{filename}\", 'rb') as adstxt_file:\n",
    "        adstxt_dict[base_url] = adstxt_file.readlines()\n",
    "\n",
    "#Printing a couple of items just to eyeball it\n",
    "# n_items = take(2, adstxt_dict.items()) \n",
    "# print(n_items)"
   ]
  },
  {
   "cell_type": "code",
   "execution_count": 4,
   "id": "b8b41867",
   "metadata": {},
   "outputs": [],
   "source": [
    "def ads_txt_uncommenter(adstxt_line):\n",
    "    adstxt_line = adstxt_line.decode('utf-8', errors='ignore')\n",
    "    adstxt_line_uncomment = adstxt_line.split('#', 1)[0]\n",
    "    return adstxt_line_uncomment.strip()"
   ]
  },
  {
   "cell_type": "code",
   "execution_count": 5,
   "id": "50223c70",
   "metadata": {},
   "outputs": [],
   "source": [
    "adstxt_decoded_dict = dict()\n",
    "for key, val in adstxt_dict.items():\n",
    "    try:\n",
    "        adstxt_decoded_dict[key] = [ads_txt_uncommenter(x) for x in val]\n",
    "    except Exception as e:\n",
    "        print(key, str(e))"
   ]
  },
  {
   "cell_type": "code",
   "execution_count": 6,
   "id": "771b20db",
   "metadata": {},
   "outputs": [
    {
     "name": "stderr",
     "output_type": "stream",
     "text": [
      "C:\\Users\\venki\\6302_proj\\lib\\site-packages\\bs4\\__init__.py:435: MarkupResemblesLocatorWarning: The input looks more like a filename than markup. You may want to open this file and pass the filehandle into Beautiful Soup.\n",
      "  warnings.warn(\n",
      "C:\\Users\\venki\\6302_proj\\lib\\site-packages\\bs4\\__init__.py:404: MarkupResemblesLocatorWarning: The input looks more like a URL than markup. You may want to use an HTTP client like requests to get the document behind the URL, and feed that document to Beautiful Soup.\n",
      "  warnings.warn(\n"
     ]
    }
   ],
   "source": [
    "#Throwaway certain lines\n",
    "adstxt_decoded_weeded_dict = dict()\n",
    "for key, val in adstxt_decoded_dict.items():\n",
    "    adstxt_decoded_weeded_dict[key] = list()\n",
    "    for line in val:\n",
    "        if line.strip() == '':\n",
    "            continue\n",
    "        elif bool(BeautifulSoup(line, \"html.parser\").find()): #https://stackoverflow.com/a/24856208/10098211\n",
    "            continue \n",
    "        else:\n",
    "            adstxt_decoded_weeded_dict[key].append(line)"
   ]
  },
  {
   "cell_type": "code",
   "execution_count": 7,
   "id": "ce59b238",
   "metadata": {},
   "outputs": [],
   "source": [
    "#separating the variables and legitimate lines\n",
    "adstxt_decoded_weeded_formatted_dict = dict()\n",
    "for key, value in adstxt_decoded_weeded_dict.items():\n",
    "    variables = []\n",
    "    lines = []\n",
    "    for line in value:\n",
    "        if line.__contains__('='):\n",
    "            variables.append(line)\n",
    "        else:\n",
    "            lines.append(line)\n",
    "    adstxt_decoded_weeded_formatted_dict[key] = [lines, variables]"
   ]
  },
  {
   "cell_type": "code",
   "execution_count": 8,
   "id": "a210f70b",
   "metadata": {},
   "outputs": [
    {
     "data": {
      "text/html": [
       "<div>\n",
       "<style scoped>\n",
       "    .dataframe tbody tr th:only-of-type {\n",
       "        vertical-align: middle;\n",
       "    }\n",
       "\n",
       "    .dataframe tbody tr th {\n",
       "        vertical-align: top;\n",
       "    }\n",
       "\n",
       "    .dataframe thead th {\n",
       "        text-align: right;\n",
       "    }\n",
       "</style>\n",
       "<table border=\"1\" class=\"dataframe\">\n",
       "  <thead>\n",
       "    <tr style=\"text-align: right;\">\n",
       "      <th></th>\n",
       "      <th>adstxt_lines</th>\n",
       "      <th>variables</th>\n",
       "    </tr>\n",
       "  </thead>\n",
       "  <tbody>\n",
       "    <tr>\n",
       "      <th>397news.com</th>\n",
       "      <td>[]</td>\n",
       "      <td>[]</td>\n",
       "    </tr>\n",
       "    <tr>\n",
       "      <th>abcnews.go.com</th>\n",
       "      <td>[themediagrid.com, CGBR8T, DIRECT, 35d5010d778...</td>\n",
       "      <td>[OWNERDOMAIN=disney.com, MANAGERDOMAIN=theglob...</td>\n",
       "    </tr>\n",
       "    <tr>\n",
       "      <th>aberdeennews.com</th>\n",
       "      <td>[media.net, 8CUDQDX7N, DIRECT, aniview.com, 62...</td>\n",
       "      <td>[ownerdomain=gannett.com, subdomain=obits.news...</td>\n",
       "    </tr>\n",
       "    <tr>\n",
       "      <th>abilene-rc.com</th>\n",
       "      <td>[townnews.com, 22666575351, DIRECT, google.com...</td>\n",
       "      <td>[﻿MANAGERDOMAIN=townnews.com]</td>\n",
       "    </tr>\n",
       "    <tr>\n",
       "      <th>abqjournal.com</th>\n",
       "      <td>[google.com, pub-1192071988574450, DIRECT, f08...</td>\n",
       "      <td>[subdomain=v7.comicskingdom.net, subdomain=gam...</td>\n",
       "    </tr>\n",
       "  </tbody>\n",
       "</table>\n",
       "</div>"
      ],
      "text/plain": [
       "                                                       adstxt_lines  \\\n",
       "397news.com                                                      []   \n",
       "abcnews.go.com    [themediagrid.com, CGBR8T, DIRECT, 35d5010d778...   \n",
       "aberdeennews.com  [media.net, 8CUDQDX7N, DIRECT, aniview.com, 62...   \n",
       "abilene-rc.com    [townnews.com, 22666575351, DIRECT, google.com...   \n",
       "abqjournal.com    [google.com, pub-1192071988574450, DIRECT, f08...   \n",
       "\n",
       "                                                          variables  \n",
       "397news.com                                                      []  \n",
       "abcnews.go.com    [OWNERDOMAIN=disney.com, MANAGERDOMAIN=theglob...  \n",
       "aberdeennews.com  [ownerdomain=gannett.com, subdomain=obits.news...  \n",
       "abilene-rc.com                        [﻿MANAGERDOMAIN=townnews.com]  \n",
       "abqjournal.com    [subdomain=v7.comicskingdom.net, subdomain=gam...  "
      ]
     },
     "execution_count": 8,
     "metadata": {},
     "output_type": "execute_result"
    }
   ],
   "source": [
    "#Creating dataframe\n",
    "adstxt_df = pd.DataFrame.from_dict(adstxt_decoded_weeded_formatted_dict, orient='index', columns = None)#, columns = ['base_url', 'adstxt_lines'])\n",
    "adstxt_df.columns = ['adstxt_lines', 'variables']\n",
    "adstxt_df.head(5)"
   ]
  },
  {
   "cell_type": "code",
   "execution_count": 9,
   "id": "c43739f4",
   "metadata": {},
   "outputs": [
    {
     "name": "stdout",
     "output_type": "stream",
     "text": [
      "2527\n",
      "2467\n"
     ]
    }
   ],
   "source": [
    "#Throwiung away urls with empty files\n",
    "adstxt_df['file_len'] = adstxt_df['adstxt_lines'].apply(lambda x: len(x))\n",
    "adstxt_filled_df = adstxt_df.loc[(adstxt_df.file_len != 0) & ~(adstxt_df.file_len.isna())]\n",
    "print(len(adstxt_df))\n",
    "print(len(adstxt_filled_df))"
   ]
  },
  {
   "cell_type": "code",
   "execution_count": 10,
   "id": "a033176c",
   "metadata": {},
   "outputs": [
    {
     "data": {
      "text/html": [
       "<div>\n",
       "<style scoped>\n",
       "    .dataframe tbody tr th:only-of-type {\n",
       "        vertical-align: middle;\n",
       "    }\n",
       "\n",
       "    .dataframe tbody tr th {\n",
       "        vertical-align: top;\n",
       "    }\n",
       "\n",
       "    .dataframe thead th {\n",
       "        text-align: right;\n",
       "    }\n",
       "</style>\n",
       "<table border=\"1\" class=\"dataframe\">\n",
       "  <thead>\n",
       "    <tr style=\"text-align: right;\">\n",
       "      <th></th>\n",
       "      <th>base_url</th>\n",
       "      <th>adstxt_lines</th>\n",
       "      <th>variables</th>\n",
       "      <th>file_len</th>\n",
       "    </tr>\n",
       "  </thead>\n",
       "  <tbody>\n",
       "    <tr>\n",
       "      <th>0</th>\n",
       "      <td>abcnews.go.com</td>\n",
       "      <td>[themediagrid.com, CGBR8T, DIRECT, 35d5010d778...</td>\n",
       "      <td>[OWNERDOMAIN=disney.com, MANAGERDOMAIN=theglob...</td>\n",
       "      <td>210</td>\n",
       "    </tr>\n",
       "    <tr>\n",
       "      <th>1</th>\n",
       "      <td>aberdeennews.com</td>\n",
       "      <td>[media.net, 8CUDQDX7N, DIRECT, aniview.com, 62...</td>\n",
       "      <td>[ownerdomain=gannett.com, subdomain=obits.news...</td>\n",
       "      <td>726</td>\n",
       "    </tr>\n",
       "    <tr>\n",
       "      <th>2</th>\n",
       "      <td>abilene-rc.com</td>\n",
       "      <td>[townnews.com, 22666575351, DIRECT, google.com...</td>\n",
       "      <td>[﻿MANAGERDOMAIN=townnews.com]</td>\n",
       "      <td>1668</td>\n",
       "    </tr>\n",
       "    <tr>\n",
       "      <th>3</th>\n",
       "      <td>abqjournal.com</td>\n",
       "      <td>[google.com, pub-1192071988574450, DIRECT, f08...</td>\n",
       "      <td>[subdomain=v7.comicskingdom.net, subdomain=gam...</td>\n",
       "      <td>1201</td>\n",
       "    </tr>\n",
       "  </tbody>\n",
       "</table>\n",
       "</div>"
      ],
      "text/plain": [
       "           base_url                                       adstxt_lines  \\\n",
       "0    abcnews.go.com  [themediagrid.com, CGBR8T, DIRECT, 35d5010d778...   \n",
       "1  aberdeennews.com  [media.net, 8CUDQDX7N, DIRECT, aniview.com, 62...   \n",
       "2    abilene-rc.com  [townnews.com, 22666575351, DIRECT, google.com...   \n",
       "3    abqjournal.com  [google.com, pub-1192071988574450, DIRECT, f08...   \n",
       "\n",
       "                                           variables  file_len  \n",
       "0  [OWNERDOMAIN=disney.com, MANAGERDOMAIN=theglob...       210  \n",
       "1  [ownerdomain=gannett.com, subdomain=obits.news...       726  \n",
       "2                      [﻿MANAGERDOMAIN=townnews.com]      1668  \n",
       "3  [subdomain=v7.comicskingdom.net, subdomain=gam...      1201  "
      ]
     },
     "execution_count": 10,
     "metadata": {},
     "output_type": "execute_result"
    }
   ],
   "source": [
    "adstxt_filled_df = adstxt_filled_df.reset_index(names= 'base_url')\n",
    "adstxt_filled_df.head(4)"
   ]
  },
  {
   "cell_type": "markdown",
   "id": "51025cea",
   "metadata": {},
   "source": [
    "## 3. Output the adjacency list with the name of the publisher against the name of the platform\n"
   ]
  },
  {
   "cell_type": "code",
   "execution_count": 11,
   "id": "dc6d1f43",
   "metadata": {},
   "outputs": [],
   "source": [
    "# with open('./data/adjacency_list_df.csv', 'w') as outfile:\n",
    "#     outfile.write(\"publisher,platform,acc_id,type,tag_id\\n\")\n",
    "\n",
    "# for row in adstxt_filled_df.values:\n",
    "#     for adstxt_line in row[1]:\n",
    "#         cols = adstxt_line.split(\",\")\n",
    "#         if len(cols) > 4: #I observed that some lines weren't properly broken. So I am going to drop things after column 4\n",
    "#             adstxt_line = ','.join(cols[:4])\n",
    "#         with open('./data/adjacency_list_df.csv', 'a') as outfile:\n",
    "#             try:\n",
    "#                 outfile.write(f\"{row[0]},{adstxt_line}\\n\")\n",
    "#             except: # If there is an encoding issue with a line, I am not writing it out\n",
    "#                 continue"
   ]
  },
  {
   "cell_type": "code",
   "execution_count": 10,
   "id": "29c39ab0",
   "metadata": {},
   "outputs": [
    {
     "data": {
      "text/html": [
       "<div>\n",
       "<style scoped>\n",
       "    .dataframe tbody tr th:only-of-type {\n",
       "        vertical-align: middle;\n",
       "    }\n",
       "\n",
       "    .dataframe tbody tr th {\n",
       "        vertical-align: top;\n",
       "    }\n",
       "\n",
       "    .dataframe thead th {\n",
       "        text-align: right;\n",
       "    }\n",
       "</style>\n",
       "<table border=\"1\" class=\"dataframe\">\n",
       "  <thead>\n",
       "    <tr style=\"text-align: right;\">\n",
       "      <th></th>\n",
       "      <th>publisher</th>\n",
       "      <th>platform</th>\n",
       "      <th>acc_id</th>\n",
       "      <th>type</th>\n",
       "      <th>tag_id</th>\n",
       "    </tr>\n",
       "  </thead>\n",
       "  <tbody>\n",
       "    <tr>\n",
       "      <th>0</th>\n",
       "      <td>abcnews.go.com</td>\n",
       "      <td>themediagrid.com</td>\n",
       "      <td>CGBR8T</td>\n",
       "      <td>DIRECT</td>\n",
       "      <td>35d5010d7789b49d</td>\n",
       "    </tr>\n",
       "    <tr>\n",
       "      <th>1</th>\n",
       "      <td>abcnews.go.com</td>\n",
       "      <td>taboola.com</td>\n",
       "      <td>1184469</td>\n",
       "      <td>DIRECT</td>\n",
       "      <td>c228e6794e811952</td>\n",
       "    </tr>\n",
       "    <tr>\n",
       "      <th>2</th>\n",
       "      <td>abcnews.go.com</td>\n",
       "      <td>telaria.com</td>\n",
       "      <td>i79zj-650ov</td>\n",
       "      <td>DIRECT</td>\n",
       "      <td>1a4e959a1b50034a</td>\n",
       "    </tr>\n",
       "    <tr>\n",
       "      <th>3</th>\n",
       "      <td>abcnews.go.com</td>\n",
       "      <td>tremorhub.com</td>\n",
       "      <td>i79zj-650ov</td>\n",
       "      <td>DIRECT</td>\n",
       "      <td>1a4e959a1b50034a</td>\n",
       "    </tr>\n",
       "    <tr>\n",
       "      <th>4</th>\n",
       "      <td>abcnews.go.com</td>\n",
       "      <td>theglobeandmail.com</td>\n",
       "      <td>pub-7154879651992621</td>\n",
       "      <td>DIRECT</td>\n",
       "      <td>NaN</td>\n",
       "    </tr>\n",
       "  </tbody>\n",
       "</table>\n",
       "</div>"
      ],
      "text/plain": [
       "        publisher             platform                 acc_id     type  \\\n",
       "0  abcnews.go.com     themediagrid.com                 CGBR8T   DIRECT   \n",
       "1  abcnews.go.com          taboola.com                1184469   DIRECT   \n",
       "2  abcnews.go.com          telaria.com            i79zj-650ov   DIRECT   \n",
       "3  abcnews.go.com        tremorhub.com            i79zj-650ov   DIRECT   \n",
       "4  abcnews.go.com  theglobeandmail.com   pub-7154879651992621   DIRECT   \n",
       "\n",
       "              tag_id  \n",
       "0   35d5010d7789b49d  \n",
       "1   c228e6794e811952  \n",
       "2   1a4e959a1b50034a  \n",
       "3   1a4e959a1b50034a  \n",
       "4                NaN  "
      ]
     },
     "execution_count": 10,
     "metadata": {},
     "output_type": "execute_result"
    }
   ],
   "source": [
    "adj_df = pd.read_csv('./data/adjacency_list_df.csv', sep=',', encoding_errors = 'ignore')\n",
    "adj_df.head(5)"
   ]
  },
  {
   "cell_type": "code",
   "execution_count": 12,
   "id": "6c689573",
   "metadata": {},
   "outputs": [
    {
     "data": {
      "text/html": [
       "<div>\n",
       "<style scoped>\n",
       "    .dataframe tbody tr th:only-of-type {\n",
       "        vertical-align: middle;\n",
       "    }\n",
       "\n",
       "    .dataframe tbody tr th {\n",
       "        vertical-align: top;\n",
       "    }\n",
       "\n",
       "    .dataframe thead th {\n",
       "        text-align: right;\n",
       "    }\n",
       "</style>\n",
       "<table border=\"1\" class=\"dataframe\">\n",
       "  <thead>\n",
       "    <tr style=\"text-align: right;\">\n",
       "      <th></th>\n",
       "      <th>publisher</th>\n",
       "      <th>platform</th>\n",
       "      <th>acc_id</th>\n",
       "      <th>type</th>\n",
       "      <th>tag_id</th>\n",
       "    </tr>\n",
       "  </thead>\n",
       "  <tbody>\n",
       "    <tr>\n",
       "      <th>318367</th>\n",
       "      <td>darnews.com</td>\n",
       "      <td>placeholder.example.com</td>\n",
       "      <td>placeholder</td>\n",
       "      <td>DIRECT</td>\n",
       "      <td>placeholder</td>\n",
       "    </tr>\n",
       "    <tr>\n",
       "      <th>1001623</th>\n",
       "      <td>osceolatimes.com</td>\n",
       "      <td>placeholder.example.com</td>\n",
       "      <td>placeholder</td>\n",
       "      <td>DIRECT</td>\n",
       "      <td>placeholder</td>\n",
       "    </tr>\n",
       "    <tr>\n",
       "      <th>1205970</th>\n",
       "      <td>tcm.com</td>\n",
       "      <td>placeholder.example.com</td>\n",
       "      <td>placeholder</td>\n",
       "      <td>DIRECT</td>\n",
       "      <td>placeholder</td>\n",
       "    </tr>\n",
       "  </tbody>\n",
       "</table>\n",
       "</div>"
      ],
      "text/plain": [
       "                publisher                 platform        acc_id     type  \\\n",
       "318367        darnews.com  placeholder.example.com   placeholder   DIRECT   \n",
       "1001623  osceolatimes.com  placeholder.example.com   placeholder   DIRECT   \n",
       "1205970           tcm.com  placeholder.example.com   placeholder   DIRECT   \n",
       "\n",
       "               tag_id  \n",
       "318367    placeholder  \n",
       "1001623   placeholder  \n",
       "1205970   placeholder  "
      ]
     },
     "execution_count": 12,
     "metadata": {},
     "output_type": "execute_result"
    }
   ],
   "source": [
    "adj_df.loc[adj_df.platform.str.contains('placeholder') & ~(adj_df.platform.isna())]"
   ]
  },
  {
   "cell_type": "code",
   "execution_count": 3,
   "id": "d3ec5b30",
   "metadata": {},
   "outputs": [
    {
     "name": "stderr",
     "output_type": "stream",
     "text": [
      "C:\\Users\\venki\\AppData\\Local\\Temp\\ipykernel_8912\\3946503715.py:3: FutureWarning: The default value of regex will change from True to False in a future version.\n",
      "  adj_df['type'] = adj_df['type'].str.replace('\\W+', '').str.upper()\n"
     ]
    },
    {
     "data": {
      "text/html": [
       "<div>\n",
       "<style scoped>\n",
       "    .dataframe tbody tr th:only-of-type {\n",
       "        vertical-align: middle;\n",
       "    }\n",
       "\n",
       "    .dataframe tbody tr th {\n",
       "        vertical-align: top;\n",
       "    }\n",
       "\n",
       "    .dataframe thead th {\n",
       "        text-align: right;\n",
       "    }\n",
       "</style>\n",
       "<table border=\"1\" class=\"dataframe\">\n",
       "  <thead>\n",
       "    <tr style=\"text-align: right;\">\n",
       "      <th></th>\n",
       "      <th>publisher</th>\n",
       "      <th>platform</th>\n",
       "      <th>acc_id</th>\n",
       "      <th>type</th>\n",
       "      <th>tag_id</th>\n",
       "    </tr>\n",
       "  </thead>\n",
       "  <tbody>\n",
       "    <tr>\n",
       "      <th>0</th>\n",
       "      <td>abcnews.go.com</td>\n",
       "      <td>themediagrid.com</td>\n",
       "      <td>CGBR8T</td>\n",
       "      <td>DIRECT</td>\n",
       "      <td>35d5010d7789b49d</td>\n",
       "    </tr>\n",
       "    <tr>\n",
       "      <th>1</th>\n",
       "      <td>abcnews.go.com</td>\n",
       "      <td>taboola.com</td>\n",
       "      <td>1184469</td>\n",
       "      <td>DIRECT</td>\n",
       "      <td>c228e6794e811952</td>\n",
       "    </tr>\n",
       "    <tr>\n",
       "      <th>2</th>\n",
       "      <td>abcnews.go.com</td>\n",
       "      <td>telaria.com</td>\n",
       "      <td>i79zj-650ov</td>\n",
       "      <td>DIRECT</td>\n",
       "      <td>1a4e959a1b50034a</td>\n",
       "    </tr>\n",
       "    <tr>\n",
       "      <th>3</th>\n",
       "      <td>abcnews.go.com</td>\n",
       "      <td>tremorhub.com</td>\n",
       "      <td>i79zj-650ov</td>\n",
       "      <td>DIRECT</td>\n",
       "      <td>1a4e959a1b50034a</td>\n",
       "    </tr>\n",
       "    <tr>\n",
       "      <th>4</th>\n",
       "      <td>abcnews.go.com</td>\n",
       "      <td>theglobeandmail.com</td>\n",
       "      <td>pub-7154879651992621</td>\n",
       "      <td>DIRECT</td>\n",
       "      <td>NaN</td>\n",
       "    </tr>\n",
       "  </tbody>\n",
       "</table>\n",
       "</div>"
      ],
      "text/plain": [
       "        publisher             platform                acc_id    type  \\\n",
       "0  abcnews.go.com     themediagrid.com                CGBR8T  DIRECT   \n",
       "1  abcnews.go.com          taboola.com               1184469  DIRECT   \n",
       "2  abcnews.go.com          telaria.com           i79zj-650ov  DIRECT   \n",
       "3  abcnews.go.com        tremorhub.com           i79zj-650ov  DIRECT   \n",
       "4  abcnews.go.com  theglobeandmail.com  pub-7154879651992621  DIRECT   \n",
       "\n",
       "             tag_id  \n",
       "0  35d5010d7789b49d  \n",
       "1  c228e6794e811952  \n",
       "2  1a4e959a1b50034a  \n",
       "3  1a4e959a1b50034a  \n",
       "4               NaN  "
      ]
     },
     "execution_count": 3,
     "metadata": {},
     "output_type": "execute_result"
    }
   ],
   "source": [
    "for col in adj_df.columns:\n",
    "    adj_df[col] = adj_df[col].str.strip()\n",
    "adj_df['type'] = adj_df['type'].str.replace('\\W+', '').str.upper()\n",
    "adj_df.head(5)"
   ]
  },
  {
   "cell_type": "code",
   "execution_count": 115,
   "id": "4da2038c",
   "metadata": {},
   "outputs": [
    {
     "data": {
      "text/html": [
       "<div>\n",
       "<style scoped>\n",
       "    .dataframe tbody tr th:only-of-type {\n",
       "        vertical-align: middle;\n",
       "    }\n",
       "\n",
       "    .dataframe tbody tr th {\n",
       "        vertical-align: top;\n",
       "    }\n",
       "\n",
       "    .dataframe thead th {\n",
       "        text-align: right;\n",
       "    }\n",
       "</style>\n",
       "<table border=\"1\" class=\"dataframe\">\n",
       "  <thead>\n",
       "    <tr style=\"text-align: right;\">\n",
       "      <th></th>\n",
       "      <th>publisher</th>\n",
       "      <th>platform</th>\n",
       "      <th>acc_id</th>\n",
       "      <th>type</th>\n",
       "      <th>tag_id</th>\n",
       "    </tr>\n",
       "  </thead>\n",
       "  <tbody>\n",
       "    <tr>\n",
       "      <th>0</th>\n",
       "      <td>abcnews.go.com</td>\n",
       "      <td>themediagrid.com</td>\n",
       "      <td>CGBR8T</td>\n",
       "      <td>DIRECT</td>\n",
       "      <td>35d5010d7789b49d</td>\n",
       "    </tr>\n",
       "    <tr>\n",
       "      <th>1</th>\n",
       "      <td>abcnews.go.com</td>\n",
       "      <td>taboola.com</td>\n",
       "      <td>1184469</td>\n",
       "      <td>DIRECT</td>\n",
       "      <td>c228e6794e811952</td>\n",
       "    </tr>\n",
       "    <tr>\n",
       "      <th>2</th>\n",
       "      <td>abcnews.go.com</td>\n",
       "      <td>telaria.com</td>\n",
       "      <td>i79zj-650ov</td>\n",
       "      <td>DIRECT</td>\n",
       "      <td>1a4e959a1b50034a</td>\n",
       "    </tr>\n",
       "    <tr>\n",
       "      <th>3</th>\n",
       "      <td>abcnews.go.com</td>\n",
       "      <td>tremorhub.com</td>\n",
       "      <td>i79zj-650ov</td>\n",
       "      <td>DIRECT</td>\n",
       "      <td>1a4e959a1b50034a</td>\n",
       "    </tr>\n",
       "    <tr>\n",
       "      <th>4</th>\n",
       "      <td>abcnews.go.com</td>\n",
       "      <td>theglobeandmail.com</td>\n",
       "      <td>pub-7154879651992621</td>\n",
       "      <td>DIRECT</td>\n",
       "      <td>NaN</td>\n",
       "    </tr>\n",
       "  </tbody>\n",
       "</table>\n",
       "</div>"
      ],
      "text/plain": [
       "        publisher             platform                acc_id    type  \\\n",
       "0  abcnews.go.com     themediagrid.com                CGBR8T  DIRECT   \n",
       "1  abcnews.go.com          taboola.com               1184469  DIRECT   \n",
       "2  abcnews.go.com          telaria.com           i79zj-650ov  DIRECT   \n",
       "3  abcnews.go.com        tremorhub.com           i79zj-650ov  DIRECT   \n",
       "4  abcnews.go.com  theglobeandmail.com  pub-7154879651992621  DIRECT   \n",
       "\n",
       "             tag_id  \n",
       "0  35d5010d7789b49d  \n",
       "1  c228e6794e811952  \n",
       "2  1a4e959a1b50034a  \n",
       "3  1a4e959a1b50034a  \n",
       "4               NaN  "
      ]
     },
     "execution_count": 115,
     "metadata": {},
     "output_type": "execute_result"
    }
   ],
   "source": [
    "#Get rid of bad rows\n",
    "tidy_adj_df = adj_df.loc[~(adj_df.platform.isna()), :]\n",
    "tidy_adj_df = tidy_adj_df.loc[(tidy_adj_df.type.isin(['DIRECT', 'RESELLER', 'BOTH'])) & \n",
    "                              ~(tidy_adj_df.platform.str.contains('placeholder')),:]\n",
    "tidy_adj_df.platform = tidy_adj_df.platform.apply(lambda x: 'google.com' if x.__contains__('google.com') else x)\n",
    "tidy_adj_df.platform = tidy_adj_df.platform.apply(lambda x: 'indexexchange.com' if x == 'indexexchange.comindexexchange.com' else x)\n",
    "tidy_adj_df.head(5)"
   ]
  },
  {
   "cell_type": "code",
   "execution_count": 91,
   "id": "1c06514a",
   "metadata": {},
   "outputs": [],
   "source": [
    "def remove_www(x):\n",
    "    if x.startswith('www') or x.startswith('ww1'):\n",
    "        return x[4:]\n",
    "    else:\n",
    "        return x"
   ]
  },
  {
   "cell_type": "code",
   "execution_count": 101,
   "id": "b498b15e",
   "metadata": {},
   "outputs": [],
   "source": [
    "def platform_name_cleaner(platform_name):\n",
    "    split_name = platform_name.split(' ')\n",
    "    for name in split_name:\n",
    "        if name.__contains__('.'):\n",
    "            cur_name = name.lower().strip()\n",
    "            if cur_name.__contains__('http'):\n",
    "                return remove_www(urlparse(cur_name).netloc)\n",
    "            else:\n",
    "                return remove_www(cur_name)\n",
    "        else: \n",
    "            continue"
   ]
  },
  {
   "cell_type": "code",
   "execution_count": 116,
   "id": "0caf78a7",
   "metadata": {},
   "outputs": [],
   "source": [
    "tidy_adj_df.platform = tidy_adj_df.platform.apply(lambda x: platform_name_cleaner(x))"
   ]
  },
  {
   "cell_type": "code",
   "execution_count": 117,
   "id": "cacb5976",
   "metadata": {},
   "outputs": [
    {
     "data": {
      "text/plain": [
       "0.8464118225831754"
      ]
     },
     "execution_count": 117,
     "metadata": {},
     "output_type": "execute_result"
    }
   ],
   "source": [
    "100*(len(adj_df) - len(tidy_adj_df))/len(tidy_adj_df) #% of rows lost\n",
    "#Small enough I guess"
   ]
  },
  {
   "cell_type": "code",
   "execution_count": 118,
   "id": "965e0b04",
   "metadata": {},
   "outputs": [
    {
     "data": {
      "text/html": [
       "<div>\n",
       "<style scoped>\n",
       "    .dataframe tbody tr th:only-of-type {\n",
       "        vertical-align: middle;\n",
       "    }\n",
       "\n",
       "    .dataframe tbody tr th {\n",
       "        vertical-align: top;\n",
       "    }\n",
       "\n",
       "    .dataframe thead th {\n",
       "        text-align: right;\n",
       "    }\n",
       "</style>\n",
       "<table border=\"1\" class=\"dataframe\">\n",
       "  <thead>\n",
       "    <tr style=\"text-align: right;\">\n",
       "      <th></th>\n",
       "      <th>publisher</th>\n",
       "      <th>platform</th>\n",
       "      <th>acc_id</th>\n",
       "      <th>type</th>\n",
       "      <th>tag_id</th>\n",
       "    </tr>\n",
       "  </thead>\n",
       "  <tbody>\n",
       "    <tr>\n",
       "      <th>1394954</th>\n",
       "      <td>zanesvilletimesrecorder.com</td>\n",
       "      <td>taboola.com</td>\n",
       "      <td>1111283</td>\n",
       "      <td>DIRECT</td>\n",
       "      <td>c228e6794e811952</td>\n",
       "    </tr>\n",
       "    <tr>\n",
       "      <th>1394955</th>\n",
       "      <td>zanesvilletimesrecorder.com</td>\n",
       "      <td>appnexus.com</td>\n",
       "      <td>1356</td>\n",
       "      <td>DIRECT</td>\n",
       "      <td>f5ab79cb980f11d1</td>\n",
       "    </tr>\n",
       "    <tr>\n",
       "      <th>1394956</th>\n",
       "      <td>zanesvilletimesrecorder.com</td>\n",
       "      <td>openx.com</td>\n",
       "      <td>538929384</td>\n",
       "      <td>DIRECT</td>\n",
       "      <td>6a698e2ec38604c6</td>\n",
       "    </tr>\n",
       "    <tr>\n",
       "      <th>1394957</th>\n",
       "      <td>zanesvilletimesrecorder.com</td>\n",
       "      <td>telaria.com</td>\n",
       "      <td>d3kkw-751vw</td>\n",
       "      <td>DIRECT</td>\n",
       "      <td>1a4e959a1b50034a</td>\n",
       "    </tr>\n",
       "    <tr>\n",
       "      <th>1394958</th>\n",
       "      <td>zanesvilletimesrecorder.com</td>\n",
       "      <td>liveintent.com</td>\n",
       "      <td>20716</td>\n",
       "      <td>DIRECT</td>\n",
       "      <td>NaN</td>\n",
       "    </tr>\n",
       "  </tbody>\n",
       "</table>\n",
       "</div>"
      ],
      "text/plain": [
       "                           publisher        platform       acc_id    type  \\\n",
       "1394954  zanesvilletimesrecorder.com     taboola.com      1111283  DIRECT   \n",
       "1394955  zanesvilletimesrecorder.com    appnexus.com         1356  DIRECT   \n",
       "1394956  zanesvilletimesrecorder.com       openx.com    538929384  DIRECT   \n",
       "1394957  zanesvilletimesrecorder.com     telaria.com  d3kkw-751vw  DIRECT   \n",
       "1394958  zanesvilletimesrecorder.com  liveintent.com        20716  DIRECT   \n",
       "\n",
       "                   tag_id  \n",
       "1394954  c228e6794e811952  \n",
       "1394955  f5ab79cb980f11d1  \n",
       "1394956  6a698e2ec38604c6  \n",
       "1394957  1a4e959a1b50034a  \n",
       "1394958               NaN  "
      ]
     },
     "execution_count": 118,
     "metadata": {},
     "output_type": "execute_result"
    }
   ],
   "source": [
    "tidy_adj_df.tail(5)"
   ]
  },
  {
   "cell_type": "code",
   "execution_count": 139,
   "id": "7c6a7b45",
   "metadata": {},
   "outputs": [
    {
     "data": {
      "text/html": [
       "<div>\n",
       "<style scoped>\n",
       "    .dataframe tbody tr th:only-of-type {\n",
       "        vertical-align: middle;\n",
       "    }\n",
       "\n",
       "    .dataframe tbody tr th {\n",
       "        vertical-align: top;\n",
       "    }\n",
       "\n",
       "    .dataframe thead th {\n",
       "        text-align: right;\n",
       "    }\n",
       "</style>\n",
       "<table border=\"1\" class=\"dataframe\">\n",
       "  <thead>\n",
       "    <tr style=\"text-align: right;\">\n",
       "      <th></th>\n",
       "      <th>publisher</th>\n",
       "      <th>platform</th>\n",
       "      <th>type</th>\n",
       "      <th>acc_id</th>\n",
       "    </tr>\n",
       "  </thead>\n",
       "  <tbody>\n",
       "    <tr>\n",
       "      <th>0</th>\n",
       "      <td>Idahostatesman.com</td>\n",
       "      <td>1rx.io</td>\n",
       "      <td>DIRECT</td>\n",
       "      <td>2</td>\n",
       "    </tr>\n",
       "    <tr>\n",
       "      <th>1</th>\n",
       "      <td>Idahostatesman.com</td>\n",
       "      <td>33across.com</td>\n",
       "      <td>DIRECT</td>\n",
       "      <td>1</td>\n",
       "    </tr>\n",
       "    <tr>\n",
       "      <th>2</th>\n",
       "      <td>Idahostatesman.com</td>\n",
       "      <td>33across.com</td>\n",
       "      <td>RESELLER</td>\n",
       "      <td>2</td>\n",
       "    </tr>\n",
       "    <tr>\n",
       "      <th>3</th>\n",
       "      <td>Idahostatesman.com</td>\n",
       "      <td>ad-generation.jp</td>\n",
       "      <td>RESELLER</td>\n",
       "      <td>2</td>\n",
       "    </tr>\n",
       "    <tr>\n",
       "      <th>4</th>\n",
       "      <td>Idahostatesman.com</td>\n",
       "      <td>adcolony.com</td>\n",
       "      <td>RESELLER</td>\n",
       "      <td>1</td>\n",
       "    </tr>\n",
       "  </tbody>\n",
       "</table>\n",
       "</div>"
      ],
      "text/plain": [
       "            publisher          platform      type  acc_id\n",
       "0  Idahostatesman.com            1rx.io    DIRECT       2\n",
       "1  Idahostatesman.com      33across.com    DIRECT       1\n",
       "2  Idahostatesman.com      33across.com  RESELLER       2\n",
       "3  Idahostatesman.com  ad-generation.jp  RESELLER       2\n",
       "4  Idahostatesman.com      adcolony.com  RESELLER       1"
      ]
     },
     "execution_count": 139,
     "metadata": {},
     "output_type": "execute_result"
    }
   ],
   "source": [
    "edgelist_df = tidy_adj_df.groupby(['publisher', 'platform', 'type']).count()['acc_id'].reset_index()\n",
    "#edgelist_df['acc_id'] = edgelist_df['acc_id'].apply(lambda x: {\"acc_id_cnt\": x})\n",
    "edgelist_df.head(5)"
   ]
  },
  {
   "cell_type": "code",
   "execution_count": 141,
   "id": "658e8e3b",
   "metadata": {},
   "outputs": [
    {
     "name": "stdout",
     "output_type": "stream",
     "text": [
      "182964\n",
      "182961\n"
     ]
    }
   ],
   "source": [
    "print(len(edgelist_df))\n",
    "edgelist_df = edgelist_df.loc[~(edgelist_df.publisher == edgelist_df.platform)]\n",
    "print(len(edgelist_df))"
   ]
  },
  {
   "cell_type": "code",
   "execution_count": 142,
   "id": "214a537b",
   "metadata": {},
   "outputs": [],
   "source": [
    "#Writing it out\n",
    "edgelist_df.to_csv('./data/edge_list.txt', sep=' ', index = False, header = False)"
   ]
  },
  {
   "cell_type": "markdown",
   "id": "ae044583",
   "metadata": {},
   "source": [
    "## 4. Make a networkx object"
   ]
  },
  {
   "cell_type": "code",
   "execution_count": 143,
   "id": "ea6e2ab6",
   "metadata": {},
   "outputs": [
    {
     "data": {
      "text/plain": [
       "['Idahostatesman.com 1rx.io DIRECT 2',\n",
       " 'Idahostatesman.com 33across.com DIRECT 1',\n",
       " 'Idahostatesman.com 33across.com RESELLER 2',\n",
       " 'Idahostatesman.com ad-generation.jp RESELLER 2',\n",
       " 'Idahostatesman.com adcolony.com RESELLER 1']"
      ]
     },
     "execution_count": 143,
     "metadata": {},
     "output_type": "execute_result"
    }
   ],
   "source": [
    "with open('./data/edge_list.txt', 'r') as infile:\n",
    "    nx_edge_list = infile.readlines()\n",
    "for ind in range(len(nx_edge_list)):\n",
    "    nx_edge_list[ind] = nx_edge_list[ind].strip()\n",
    "nx_edge_list[:5]"
   ]
  },
  {
   "cell_type": "code",
   "execution_count": 122,
   "id": "02dc1591",
   "metadata": {},
   "outputs": [],
   "source": [
    "graph_obj = nx.algorithms.bipartite.parse_edgelist(nx_edge_list, data=((\"type\", str),(\"weight\", str),))"
   ]
  },
  {
   "cell_type": "code",
   "execution_count": 123,
   "id": "6deb1922",
   "metadata": {},
   "outputs": [
    {
     "data": {
      "text/plain": [
       "2679"
      ]
     },
     "execution_count": 123,
     "metadata": {},
     "output_type": "execute_result"
    }
   ],
   "source": [
    "len(graph_obj.nodes)"
   ]
  },
  {
   "cell_type": "code",
   "execution_count": 124,
   "id": "9752596a",
   "metadata": {},
   "outputs": [
    {
     "data": {
      "text/plain": [
       "137041"
      ]
     },
     "execution_count": 124,
     "metadata": {},
     "output_type": "execute_result"
    }
   ],
   "source": [
    "len(graph_obj.edges)"
   ]
  },
  {
   "cell_type": "code",
   "execution_count": 125,
   "id": "a6d7b78c",
   "metadata": {},
   "outputs": [
    {
     "data": {
      "text/plain": [
       "632"
      ]
     },
     "execution_count": 125,
     "metadata": {},
     "output_type": "execute_result"
    }
   ],
   "source": [
    "len(tidy_adj_df.platform.drop_duplicates())"
   ]
  },
  {
   "cell_type": "code",
   "execution_count": 126,
   "id": "652b2db3",
   "metadata": {},
   "outputs": [
    {
     "data": {
      "text/plain": [
       "2051"
      ]
     },
     "execution_count": 126,
     "metadata": {},
     "output_type": "execute_result"
    }
   ],
   "source": [
    "len(tidy_adj_df.publisher.drop_duplicates())"
   ]
  },
  {
   "cell_type": "markdown",
   "id": "943bf1b9",
   "metadata": {},
   "source": [
    "## 5. Make the files for neo4j\n",
    "\n",
    "I need a publishers file (with unique Ids), a platform file (with unique Ids) and a uses file with edges.\n",
    "\n",
    "Let us ignore publisher attributes and platform attributes for now"
   ]
  },
  {
   "cell_type": "code",
   "execution_count": 144,
   "id": "d81fd23b",
   "metadata": {},
   "outputs": [
    {
     "data": {
      "text/html": [
       "<div>\n",
       "<style scoped>\n",
       "    .dataframe tbody tr th:only-of-type {\n",
       "        vertical-align: middle;\n",
       "    }\n",
       "\n",
       "    .dataframe tbody tr th {\n",
       "        vertical-align: top;\n",
       "    }\n",
       "\n",
       "    .dataframe thead th {\n",
       "        text-align: right;\n",
       "    }\n",
       "</style>\n",
       "<table border=\"1\" class=\"dataframe\">\n",
       "  <thead>\n",
       "    <tr style=\"text-align: right;\">\n",
       "      <th></th>\n",
       "      <th>pubName</th>\n",
       "      <th>platName</th>\n",
       "      <th>relType</th>\n",
       "      <th>idCnt</th>\n",
       "    </tr>\n",
       "  </thead>\n",
       "  <tbody>\n",
       "    <tr>\n",
       "      <th>0</th>\n",
       "      <td>Idahostatesman.com</td>\n",
       "      <td>1rx.io</td>\n",
       "      <td>DIRECT</td>\n",
       "      <td>2</td>\n",
       "    </tr>\n",
       "    <tr>\n",
       "      <th>1</th>\n",
       "      <td>Idahostatesman.com</td>\n",
       "      <td>33across.com</td>\n",
       "      <td>DIRECT</td>\n",
       "      <td>1</td>\n",
       "    </tr>\n",
       "    <tr>\n",
       "      <th>2</th>\n",
       "      <td>Idahostatesman.com</td>\n",
       "      <td>33across.com</td>\n",
       "      <td>RESELLER</td>\n",
       "      <td>2</td>\n",
       "    </tr>\n",
       "    <tr>\n",
       "      <th>3</th>\n",
       "      <td>Idahostatesman.com</td>\n",
       "      <td>ad-generation.jp</td>\n",
       "      <td>RESELLER</td>\n",
       "      <td>2</td>\n",
       "    </tr>\n",
       "    <tr>\n",
       "      <th>4</th>\n",
       "      <td>Idahostatesman.com</td>\n",
       "      <td>adcolony.com</td>\n",
       "      <td>RESELLER</td>\n",
       "      <td>1</td>\n",
       "    </tr>\n",
       "  </tbody>\n",
       "</table>\n",
       "</div>"
      ],
      "text/plain": [
       "              pubName          platName   relType  idCnt\n",
       "0  Idahostatesman.com            1rx.io    DIRECT      2\n",
       "1  Idahostatesman.com      33across.com    DIRECT      1\n",
       "2  Idahostatesman.com      33across.com  RESELLER      2\n",
       "3  Idahostatesman.com  ad-generation.jp  RESELLER      2\n",
       "4  Idahostatesman.com      adcolony.com  RESELLER      1"
      ]
     },
     "execution_count": 144,
     "metadata": {},
     "output_type": "execute_result"
    }
   ],
   "source": [
    "edgelist_df.columns = ['pubName', 'platName', 'relType', 'idCnt']\n",
    "edgelist_df.head(5)"
   ]
  },
  {
   "cell_type": "code",
   "execution_count": 145,
   "id": "ba4bfbef",
   "metadata": {},
   "outputs": [
    {
     "data": {
      "text/html": [
       "<div>\n",
       "<style scoped>\n",
       "    .dataframe tbody tr th:only-of-type {\n",
       "        vertical-align: middle;\n",
       "    }\n",
       "\n",
       "    .dataframe tbody tr th {\n",
       "        vertical-align: top;\n",
       "    }\n",
       "\n",
       "    .dataframe thead th {\n",
       "        text-align: right;\n",
       "    }\n",
       "</style>\n",
       "<table border=\"1\" class=\"dataframe\">\n",
       "  <thead>\n",
       "    <tr style=\"text-align: right;\">\n",
       "      <th></th>\n",
       "      <th>pubKey</th>\n",
       "      <th>pubName</th>\n",
       "    </tr>\n",
       "  </thead>\n",
       "  <tbody>\n",
       "    <tr>\n",
       "      <th>0</th>\n",
       "      <td>0</td>\n",
       "      <td>Idahostatesman.com</td>\n",
       "    </tr>\n",
       "    <tr>\n",
       "      <th>1</th>\n",
       "      <td>110</td>\n",
       "      <td>PetroleumNews.com</td>\n",
       "    </tr>\n",
       "    <tr>\n",
       "      <th>2</th>\n",
       "      <td>111</td>\n",
       "      <td>abcnews.go.com</td>\n",
       "    </tr>\n",
       "    <tr>\n",
       "      <th>3</th>\n",
       "      <td>174</td>\n",
       "      <td>aberdeennews.com</td>\n",
       "    </tr>\n",
       "    <tr>\n",
       "      <th>4</th>\n",
       "      <td>261</td>\n",
       "      <td>abilene-rc.com</td>\n",
       "    </tr>\n",
       "  </tbody>\n",
       "</table>\n",
       "</div>"
      ],
      "text/plain": [
       "   pubKey             pubName\n",
       "0       0  Idahostatesman.com\n",
       "1     110   PetroleumNews.com\n",
       "2     111      abcnews.go.com\n",
       "3     174    aberdeennews.com\n",
       "4     261      abilene-rc.com"
      ]
     },
     "execution_count": 145,
     "metadata": {},
     "output_type": "execute_result"
    }
   ],
   "source": [
    "publishers = edgelist_df['pubName'].drop_duplicates().reset_index()\n",
    "publishers.columns = ['pubKey', 'pubName']\n",
    "publishers.head(5)"
   ]
  },
  {
   "cell_type": "code",
   "execution_count": 146,
   "id": "c9dc0922",
   "metadata": {},
   "outputs": [],
   "source": [
    "#Writing out publishers file\n",
    "path = r\"C:\\Users\\venki\\OneDrive - The University of Texas at Dallas\\Documents\\Personal files\\Academics\\MSSDAR\\Sem1\\data_methods_epps_6302\\Team Project\\neo4j_assets\"\n",
    "publishers.to_csv(f\"{path}/publishers.csv\", sep =',', index = False)"
   ]
  },
  {
   "cell_type": "code",
   "execution_count": 147,
   "id": "1e45775b",
   "metadata": {},
   "outputs": [
    {
     "data": {
      "text/html": [
       "<div>\n",
       "<style scoped>\n",
       "    .dataframe tbody tr th:only-of-type {\n",
       "        vertical-align: middle;\n",
       "    }\n",
       "\n",
       "    .dataframe tbody tr th {\n",
       "        vertical-align: top;\n",
       "    }\n",
       "\n",
       "    .dataframe thead th {\n",
       "        text-align: right;\n",
       "    }\n",
       "</style>\n",
       "<table border=\"1\" class=\"dataframe\">\n",
       "  <thead>\n",
       "    <tr style=\"text-align: right;\">\n",
       "      <th></th>\n",
       "      <th>platkey</th>\n",
       "      <th>platName</th>\n",
       "    </tr>\n",
       "  </thead>\n",
       "  <tbody>\n",
       "    <tr>\n",
       "      <th>0</th>\n",
       "      <td>0</td>\n",
       "      <td>1rx.io</td>\n",
       "    </tr>\n",
       "    <tr>\n",
       "      <th>1</th>\n",
       "      <td>1</td>\n",
       "      <td>33across.com</td>\n",
       "    </tr>\n",
       "    <tr>\n",
       "      <th>2</th>\n",
       "      <td>3</td>\n",
       "      <td>ad-generation.jp</td>\n",
       "    </tr>\n",
       "    <tr>\n",
       "      <th>3</th>\n",
       "      <td>4</td>\n",
       "      <td>adcolony.com</td>\n",
       "    </tr>\n",
       "    <tr>\n",
       "      <th>4</th>\n",
       "      <td>5</td>\n",
       "      <td>admanmedia.com</td>\n",
       "    </tr>\n",
       "  </tbody>\n",
       "</table>\n",
       "</div>"
      ],
      "text/plain": [
       "   platkey          platName\n",
       "0        0            1rx.io\n",
       "1        1      33across.com\n",
       "2        3  ad-generation.jp\n",
       "3        4      adcolony.com\n",
       "4        5    admanmedia.com"
      ]
     },
     "execution_count": 147,
     "metadata": {},
     "output_type": "execute_result"
    }
   ],
   "source": [
    "platforms = edgelist_df['platName'].drop_duplicates().reset_index()\n",
    "platforms.columns = ['platkey', 'platName']\n",
    "platforms.head(5)"
   ]
  },
  {
   "cell_type": "code",
   "execution_count": 148,
   "id": "8e9786be",
   "metadata": {},
   "outputs": [],
   "source": [
    "#Writing out platforms file\n",
    "path = r\"C:\\Users\\venki\\OneDrive - The University of Texas at Dallas\\Documents\\Personal files\\Academics\\MSSDAR\\Sem1\\data_methods_epps_6302\\Team Project\\neo4j_assets\"\n",
    "platforms.to_csv(f\"{path}/platforms.csv\", sep =',', index = False)"
   ]
  },
  {
   "cell_type": "code",
   "execution_count": 149,
   "id": "1f42bca8",
   "metadata": {},
   "outputs": [],
   "source": [
    "edgelist_df = edgelist_df.merge(publishers, left_on = 'pubName', right_on = 'pubName')\n",
    "edgelist_df = edgelist_df.merge(platforms, left_on = 'platName', right_on = 'platName')"
   ]
  },
  {
   "cell_type": "code",
   "execution_count": 150,
   "id": "3ded66f6",
   "metadata": {},
   "outputs": [
    {
     "data": {
      "text/html": [
       "<div>\n",
       "<style scoped>\n",
       "    .dataframe tbody tr th:only-of-type {\n",
       "        vertical-align: middle;\n",
       "    }\n",
       "\n",
       "    .dataframe tbody tr th {\n",
       "        vertical-align: top;\n",
       "    }\n",
       "\n",
       "    .dataframe thead th {\n",
       "        text-align: right;\n",
       "    }\n",
       "</style>\n",
       "<table border=\"1\" class=\"dataframe\">\n",
       "  <thead>\n",
       "    <tr style=\"text-align: right;\">\n",
       "      <th></th>\n",
       "      <th>pubName</th>\n",
       "      <th>platName</th>\n",
       "      <th>relType</th>\n",
       "      <th>idCnt</th>\n",
       "      <th>pubKey</th>\n",
       "      <th>platkey</th>\n",
       "    </tr>\n",
       "  </thead>\n",
       "  <tbody>\n",
       "    <tr>\n",
       "      <th>0</th>\n",
       "      <td>Idahostatesman.com</td>\n",
       "      <td>1rx.io</td>\n",
       "      <td>DIRECT</td>\n",
       "      <td>2</td>\n",
       "      <td>0</td>\n",
       "      <td>0</td>\n",
       "    </tr>\n",
       "    <tr>\n",
       "      <th>1</th>\n",
       "      <td>amsnow.com</td>\n",
       "      <td>1rx.io</td>\n",
       "      <td>RESELLER</td>\n",
       "      <td>1</td>\n",
       "      <td>4004</td>\n",
       "      <td>0</td>\n",
       "    </tr>\n",
       "    <tr>\n",
       "      <th>2</th>\n",
       "      <td>bellinghamherald.com</td>\n",
       "      <td>1rx.io</td>\n",
       "      <td>DIRECT</td>\n",
       "      <td>2</td>\n",
       "      <td>11643</td>\n",
       "      <td>0</td>\n",
       "    </tr>\n",
       "    <tr>\n",
       "      <th>3</th>\n",
       "      <td>biography.com</td>\n",
       "      <td>1rx.io</td>\n",
       "      <td>DIRECT</td>\n",
       "      <td>2</td>\n",
       "      <td>13738</td>\n",
       "      <td>0</td>\n",
       "    </tr>\n",
       "    <tr>\n",
       "      <th>4</th>\n",
       "      <td>bnd.com</td>\n",
       "      <td>1rx.io</td>\n",
       "      <td>DIRECT</td>\n",
       "      <td>2</td>\n",
       "      <td>14815</td>\n",
       "      <td>0</td>\n",
       "    </tr>\n",
       "  </tbody>\n",
       "</table>\n",
       "</div>"
      ],
      "text/plain": [
       "                pubName platName   relType  idCnt  pubKey  platkey\n",
       "0    Idahostatesman.com   1rx.io    DIRECT      2       0        0\n",
       "1            amsnow.com   1rx.io  RESELLER      1    4004        0\n",
       "2  bellinghamherald.com   1rx.io    DIRECT      2   11643        0\n",
       "3         biography.com   1rx.io    DIRECT      2   13738        0\n",
       "4               bnd.com   1rx.io    DIRECT      2   14815        0"
      ]
     },
     "execution_count": 150,
     "metadata": {},
     "output_type": "execute_result"
    }
   ],
   "source": [
    "edgelist_df.head(5)"
   ]
  },
  {
   "cell_type": "code",
   "execution_count": 151,
   "id": "3c011686",
   "metadata": {},
   "outputs": [
    {
     "data": {
      "text/html": [
       "<div>\n",
       "<style scoped>\n",
       "    .dataframe tbody tr th:only-of-type {\n",
       "        vertical-align: middle;\n",
       "    }\n",
       "\n",
       "    .dataframe tbody tr th {\n",
       "        vertical-align: top;\n",
       "    }\n",
       "\n",
       "    .dataframe thead th {\n",
       "        text-align: right;\n",
       "    }\n",
       "</style>\n",
       "<table border=\"1\" class=\"dataframe\">\n",
       "  <thead>\n",
       "    <tr style=\"text-align: right;\">\n",
       "      <th></th>\n",
       "      <th>pubKey</th>\n",
       "      <th>platkey</th>\n",
       "      <th>relType</th>\n",
       "      <th>idCnt</th>\n",
       "    </tr>\n",
       "  </thead>\n",
       "  <tbody>\n",
       "    <tr>\n",
       "      <th>0</th>\n",
       "      <td>0</td>\n",
       "      <td>0</td>\n",
       "      <td>DIRECT</td>\n",
       "      <td>2</td>\n",
       "    </tr>\n",
       "    <tr>\n",
       "      <th>1</th>\n",
       "      <td>4004</td>\n",
       "      <td>0</td>\n",
       "      <td>RESELLER</td>\n",
       "      <td>1</td>\n",
       "    </tr>\n",
       "    <tr>\n",
       "      <th>2</th>\n",
       "      <td>11643</td>\n",
       "      <td>0</td>\n",
       "      <td>DIRECT</td>\n",
       "      <td>2</td>\n",
       "    </tr>\n",
       "    <tr>\n",
       "      <th>3</th>\n",
       "      <td>13738</td>\n",
       "      <td>0</td>\n",
       "      <td>DIRECT</td>\n",
       "      <td>2</td>\n",
       "    </tr>\n",
       "    <tr>\n",
       "      <th>4</th>\n",
       "      <td>14815</td>\n",
       "      <td>0</td>\n",
       "      <td>DIRECT</td>\n",
       "      <td>2</td>\n",
       "    </tr>\n",
       "    <tr>\n",
       "      <th>...</th>\n",
       "      <td>...</td>\n",
       "      <td>...</td>\n",
       "      <td>...</td>\n",
       "      <td>...</td>\n",
       "    </tr>\n",
       "    <tr>\n",
       "      <th>182956</th>\n",
       "      <td>180318</td>\n",
       "      <td>180404</td>\n",
       "      <td>DIRECT</td>\n",
       "      <td>1</td>\n",
       "    </tr>\n",
       "    <tr>\n",
       "      <th>182957</th>\n",
       "      <td>180318</td>\n",
       "      <td>180435</td>\n",
       "      <td>DIRECT</td>\n",
       "      <td>1</td>\n",
       "    </tr>\n",
       "    <tr>\n",
       "      <th>182958</th>\n",
       "      <td>181525</td>\n",
       "      <td>181526</td>\n",
       "      <td>RESELLER</td>\n",
       "      <td>1</td>\n",
       "    </tr>\n",
       "    <tr>\n",
       "      <th>182959</th>\n",
       "      <td>181525</td>\n",
       "      <td>181529</td>\n",
       "      <td>RESELLER</td>\n",
       "      <td>1</td>\n",
       "    </tr>\n",
       "    <tr>\n",
       "      <th>182960</th>\n",
       "      <td>181525</td>\n",
       "      <td>181535</td>\n",
       "      <td>RESELLER</td>\n",
       "      <td>1</td>\n",
       "    </tr>\n",
       "  </tbody>\n",
       "</table>\n",
       "<p>182961 rows × 4 columns</p>\n",
       "</div>"
      ],
      "text/plain": [
       "        pubKey  platkey   relType  idCnt\n",
       "0            0        0    DIRECT      2\n",
       "1         4004        0  RESELLER      1\n",
       "2        11643        0    DIRECT      2\n",
       "3        13738        0    DIRECT      2\n",
       "4        14815        0    DIRECT      2\n",
       "...        ...      ...       ...    ...\n",
       "182956  180318   180404    DIRECT      1\n",
       "182957  180318   180435    DIRECT      1\n",
       "182958  181525   181526  RESELLER      1\n",
       "182959  181525   181529  RESELLER      1\n",
       "182960  181525   181535  RESELLER      1\n",
       "\n",
       "[182961 rows x 4 columns]"
      ]
     },
     "execution_count": 151,
     "metadata": {},
     "output_type": "execute_result"
    }
   ],
   "source": [
    "edgelist_df[['pubKey', 'platkey', 'relType', 'idCnt']]"
   ]
  },
  {
   "cell_type": "code",
   "execution_count": 152,
   "id": "0875a6b8",
   "metadata": {},
   "outputs": [],
   "source": [
    "#Writing out uses file\n",
    "path = r\"C:\\Users\\venki\\OneDrive - The University of Texas at Dallas\\Documents\\Personal files\\Academics\\MSSDAR\\Sem1\\data_methods_epps_6302\\Team Project\\neo4j_assets\"\n",
    "edgelist_df[['pubKey', 'platkey', 'relType', 'idCnt']].to_csv(f\"{path}/uses.csv\", sep =',', index = False)"
   ]
  },
  {
   "cell_type": "code",
   "execution_count": 153,
   "id": "160d9f60",
   "metadata": {},
   "outputs": [
    {
     "data": {
      "text/html": [
       "<div>\n",
       "<style scoped>\n",
       "    .dataframe tbody tr th:only-of-type {\n",
       "        vertical-align: middle;\n",
       "    }\n",
       "\n",
       "    .dataframe tbody tr th {\n",
       "        vertical-align: top;\n",
       "    }\n",
       "\n",
       "    .dataframe thead th {\n",
       "        text-align: right;\n",
       "    }\n",
       "</style>\n",
       "<table border=\"1\" class=\"dataframe\">\n",
       "  <thead>\n",
       "    <tr style=\"text-align: right;\">\n",
       "      <th></th>\n",
       "      <th>pubKey</th>\n",
       "      <th>pubName</th>\n",
       "    </tr>\n",
       "  </thead>\n",
       "  <tbody>\n",
       "    <tr>\n",
       "      <th>1442</th>\n",
       "      <td>127708</td>\n",
       "      <td>nytimes.com</td>\n",
       "    </tr>\n",
       "  </tbody>\n",
       "</table>\n",
       "</div>"
      ],
      "text/plain": [
       "      pubKey      pubName\n",
       "1442  127708  nytimes.com"
      ]
     },
     "execution_count": 153,
     "metadata": {},
     "output_type": "execute_result"
    }
   ],
   "source": [
    "publishers.loc[publishers.pubName == 'nytimes.com']"
   ]
  },
  {
   "cell_type": "code",
   "execution_count": 154,
   "id": "e0d57161",
   "metadata": {},
   "outputs": [
    {
     "data": {
      "text/plain": [
       "array(['DIRECT', 'RESELLER'], dtype=object)"
      ]
     },
     "execution_count": 154,
     "metadata": {},
     "output_type": "execute_result"
    }
   ],
   "source": [
    "edgelist_df.relType.unique()"
   ]
  }
 ],
 "metadata": {
  "kernelspec": {
   "display_name": "Python 3 (ipykernel)",
   "language": "python",
   "name": "python3"
  },
  "language_info": {
   "codemirror_mode": {
    "name": "ipython",
    "version": 3
   },
   "file_extension": ".py",
   "mimetype": "text/x-python",
   "name": "python",
   "nbconvert_exporter": "python",
   "pygments_lexer": "ipython3",
   "version": "3.10.2"
  }
 },
 "nbformat": 4,
 "nbformat_minor": 5
}
